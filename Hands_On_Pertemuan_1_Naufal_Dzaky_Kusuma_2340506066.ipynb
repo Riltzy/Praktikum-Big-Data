{
  "cells": [
    {
      "cell_type": "markdown",
      "id": "10c25d6f",
      "metadata": {
        "id": "10c25d6f"
      },
      "source": [
        "# Hands-On Pertemuan 1: Pengenalan Big Data dan Overview Teknologi"
      ]
    },
    {
      "cell_type": "code",
      "source": [
        "!pip install findspark"
      ],
      "metadata": {
        "colab": {
          "base_uri": "https://localhost:8080/"
        },
        "id": "NAYHZZ3Wh1OR",
        "outputId": "6c1262f9-be57-4f1b-f191-73c5d5d190fa"
      },
      "id": "NAYHZZ3Wh1OR",
      "execution_count": 3,
      "outputs": [
        {
          "output_type": "stream",
          "name": "stdout",
          "text": [
            "Collecting findspark\n",
            "  Downloading findspark-2.0.1-py2.py3-none-any.whl.metadata (352 bytes)\n",
            "Downloading findspark-2.0.1-py2.py3-none-any.whl (4.4 kB)\n",
            "Installing collected packages: findspark\n",
            "Successfully installed findspark-2.0.1\n"
          ]
        }
      ]
    },
    {
      "cell_type": "code",
      "source": [
        "!pip install pandas==2.2.2 numpy pyspark==3.4.1"
      ],
      "metadata": {
        "id": "J47UU31ujEE_",
        "colab": {
          "base_uri": "https://localhost:8080/"
        },
        "outputId": "28fe37fd-ca19-438a-c5aa-27dfe60cae08"
      },
      "id": "J47UU31ujEE_",
      "execution_count": 2,
      "outputs": [
        {
          "output_type": "stream",
          "name": "stdout",
          "text": [
            "Collecting pandas==2.2.2\n",
            "  Downloading pandas-2.2.2-cp310-cp310-manylinux_2_17_x86_64.manylinux2014_x86_64.whl.metadata (19 kB)\n",
            "Requirement already satisfied: numpy in /usr/local/lib/python3.10/dist-packages (1.26.4)\n",
            "Collecting pyspark==3.4.1\n",
            "  Downloading pyspark-3.4.1.tar.gz (310.8 MB)\n",
            "\u001b[2K     \u001b[90m━━━━━━━━━━━━━━━━━━━━━━━━━━━━━━━━━━━━━━━━\u001b[0m \u001b[32m310.8/310.8 MB\u001b[0m \u001b[31m4.8 MB/s\u001b[0m eta \u001b[36m0:00:00\u001b[0m\n",
            "\u001b[?25h  Preparing metadata (setup.py) ... \u001b[?25l\u001b[?25hdone\n",
            "Requirement already satisfied: python-dateutil>=2.8.2 in /usr/local/lib/python3.10/dist-packages (from pandas==2.2.2) (2.8.2)\n",
            "Requirement already satisfied: pytz>=2020.1 in /usr/local/lib/python3.10/dist-packages (from pandas==2.2.2) (2024.1)\n",
            "Requirement already satisfied: tzdata>=2022.7 in /usr/local/lib/python3.10/dist-packages (from pandas==2.2.2) (2024.1)\n",
            "Requirement already satisfied: py4j==0.10.9.7 in /usr/local/lib/python3.10/dist-packages (from pyspark==3.4.1) (0.10.9.7)\n",
            "Requirement already satisfied: six>=1.5 in /usr/local/lib/python3.10/dist-packages (from python-dateutil>=2.8.2->pandas==2.2.2) (1.16.0)\n",
            "Downloading pandas-2.2.2-cp310-cp310-manylinux_2_17_x86_64.manylinux2014_x86_64.whl (13.0 MB)\n",
            "\u001b[2K   \u001b[90m━━━━━━━━━━━━━━━━━━━━━━━━━━━━━━━━━━━━━━━━\u001b[0m \u001b[32m13.0/13.0 MB\u001b[0m \u001b[31m16.4 MB/s\u001b[0m eta \u001b[36m0:00:00\u001b[0m\n",
            "\u001b[?25hBuilding wheels for collected packages: pyspark\n",
            "  Building wheel for pyspark (setup.py) ... \u001b[?25l\u001b[?25hdone\n",
            "  Created wheel for pyspark: filename=pyspark-3.4.1-py2.py3-none-any.whl size=311285391 sha256=7b5c4c0a0fdcaa04369fd29024fa64da3ade89eb176d116e9e3a542c8e2eb145\n",
            "  Stored in directory: /root/.cache/pip/wheels/0d/77/a3/ff2f74cc9ab41f8f594dabf0579c2a7c6de920d584206e0834\n",
            "Successfully built pyspark\n",
            "Installing collected packages: pyspark, pandas\n",
            "  Attempting uninstall: pandas\n",
            "    Found existing installation: pandas 2.1.4\n",
            "    Uninstalling pandas-2.1.4:\n",
            "      Successfully uninstalled pandas-2.1.4\n",
            "\u001b[31mERROR: pip's dependency resolver does not currently take into account all the packages that are installed. This behaviour is the source of the following dependency conflicts.\n",
            "cudf-cu12 24.4.1 requires pandas<2.2.2dev0,>=2.0, but you have pandas 2.2.2 which is incompatible.\n",
            "google-colab 1.0.0 requires pandas==2.1.4, but you have pandas 2.2.2 which is incompatible.\u001b[0m\u001b[31m\n",
            "\u001b[0mSuccessfully installed pandas-2.2.2 pyspark-3.4.1\n"
          ]
        }
      ]
    },
    {
      "cell_type": "markdown",
      "id": "7117dfdb",
      "metadata": {
        "id": "7117dfdb"
      },
      "source": [
        "## Tujuan\n",
        "Pada akhir praktikum ini, mahasiswa diharapkan mampu:\n",
        "1. Memahami konsep dasar Big Data.\n",
        "2. Menjelaskan karakteristik dan tantangan Big Data (Volume, Variety, Velocity, dan Veracity).\n",
        "3. Mengenal teknologi yang digunakan dalam ekosistem Big Data.\n",
        "4. Menginstal dan mengonfigurasi Anaconda untuk bekerja dengan alat Big Data seperti Hadoop dan Spark.\n",
        "5. Memulai praktik sederhana terkait pengolahan data menggunakan PySpark dan Pandas."
      ]
    },
    {
      "cell_type": "markdown",
      "id": "7e805141",
      "metadata": {
        "id": "7e805141"
      },
      "source": [
        "## Peralatan yang Dibutuhkan\n",
        "1. Anaconda (untuk manajemen lingkungan)\n",
        "2. Jupyter Notebook (bawaan dari Anaconda)\n",
        "3. PySpark (untuk pemrosesan data skala besar)\n",
        "4. Pandas (untuk data analysis)\n",
        "5. Python (bawaan dari Anaconda)"
      ]
    },
    {
      "cell_type": "code",
      "execution_count": null,
      "id": "3xmH7-KgH-TH",
      "metadata": {
        "id": "3xmH7-KgH-TH"
      },
      "outputs": [],
      "source": []
    },
    {
      "cell_type": "markdown",
      "id": "8daa78a0",
      "metadata": {
        "id": "8daa78a0"
      },
      "source": [
        "## Langkah-Langkah Hands-On"
      ]
    },
    {
      "cell_type": "markdown",
      "id": "23b963c0",
      "metadata": {
        "id": "23b963c0"
      },
      "source": [
        "### 1. Instalasi Anaconda\n",
        "- **Langkah 1: Unduh dan Instal Anaconda**\n",
        "  Anaconda adalah platform distribusi Python yang menyertakan berbagai alat pengembangan, termasuk Jupyter Notebook. Ikuti langkah-langkah instalasi sesuai sistem operasi:\n",
        "  - Unduh Anaconda: [Download Anaconda](https://www.anaconda.com/products/individual)\n",
        "  - Instal sesuai instruksi yang ada di situs web tersebut (Windows/Mac/Linux).\n",
        "\n",
        "- **Langkah 2: Menginstal PySpark di Anaconda**\n",
        "  Setelah Anaconda terinstal, tambahkan PySpark:\n",
        "  ```bash\n",
        "  pip install pyspark==3.4.1\n",
        "  ```\n",
        "\n",
        "- **Langkah 3: Menginstal Pandas**\n",
        "  Untuk memudahkan data analysis, install Pandas:\n",
        "  ```bash\n",
        "  pip install pandas\n",
        "  ```\n",
        "\n",
        "- **Langkah 4: Menginstal Findspark**\n",
        "  ```bash\n",
        "  pip install findspark\n",
        "  ```"
      ]
    },
    {
      "cell_type": "markdown",
      "id": "208f1a45",
      "metadata": {
        "id": "208f1a45"
      },
      "source": [
        "### 2. Pengenalan dan Praktik Dasar PySpark dan Pandas\n",
        "- **Langkah 1: Membuka Jupyter Notebook**\n",
        "  Setelah instalasi selesai, buka Jupyter Notebook melalui Anaconda Navigator atau melalui terminal dengan perintah:\n",
        "  ```bash\n",
        "  jupyter notebook\n",
        "  ```\n",
        "\n",
        "- **Langkah 2: Membuat Project Notebook Baru**\n",
        "  Di Jupyter Notebook, buat notebook baru untuk praktikum ini.\n",
        "\n",
        "- **Langkah 3: Praktik dengan PySpark**\n",
        "  Buat program sederhana untuk memulai dengan PySpark. Gunakan PySpark untuk membuat DataFrame dan memanipulasi data sederhana:"
      ]
    },
    {
      "cell_type": "code",
      "execution_count": 4,
      "id": "KERSZShIH_aN",
      "metadata": {
        "id": "KERSZShIH_aN"
      },
      "outputs": [],
      "source": [
        "import findspark\n",
        "findspark.init()"
      ]
    },
    {
      "cell_type": "code",
      "execution_count": 5,
      "id": "f78a5053",
      "metadata": {
        "id": "f78a5053",
        "colab": {
          "base_uri": "https://localhost:8080/"
        },
        "outputId": "b059b0dc-218f-4525-8d73-4c596546c138"
      },
      "outputs": [
        {
          "output_type": "stream",
          "name": "stdout",
          "text": [
            "+--------------------+----+---------+-------------+---------+\n",
            "|                Nama|Usia|Pekerjaan|         Hobi|   Gender|\n",
            "+--------------------+----+---------+-------------+---------+\n",
            "|Regi Prabowo Wongkar|  36| Youtuber| Bermain Game|Laki-Laki|\n",
            "|   Freya Jayawardana|  18| Penyanyi|Membaca Novel|Perempuan|\n",
            "|Brando Franco Windah|  32| Streamer| Bermain game|Laki-Laki|\n",
            "|  Nadia Fairuz Omara|  31| Youtuber|    Bercerita|Perempuan|\n",
            "+--------------------+----+---------+-------------+---------+\n",
            "\n"
          ]
        }
      ],
      "source": [
        "from pyspark.sql import SparkSession\n",
        "\n",
        "# Memulai Spark session\n",
        "spark = SparkSession.builder.appName(\"BigDataPractice\").getOrCreate()\n",
        "\n",
        "# Membuat DataFrame sederhana\n",
        "data = [(\"Regi Prabowo Wongkar\", 36, \"Youtuber\", \"Bermain Game\", \"Laki-Laki\"), (\"Freya Jayawardana\", 18, \"Penyanyi\", \"Membaca Novel\", \"Perempuan\"), (\"Brando Franco Windah\", 32, \"Streamer\", \"Bermain game\", \"Laki-Laki\"), (\"Nadia Fairuz Omara\", 31, \"Youtuber\", \"Bercerita\", \"Perempuan\")]\n",
        "columns = [\"Nama\", \"Usia\", \"Pekerjaan\", \"Hobi\", \"Gender\"]\n",
        "df = spark.createDataFrame(data, columns)\n",
        "\n",
        "# Menampilkan DataFrame\n",
        "df.show()\n"
      ]
    },
    {
      "cell_type": "markdown",
      "id": "8747276f",
      "metadata": {
        "id": "8747276f"
      },
      "source": [
        "- **Tugas 1**: Jalankan kode di atas dan buat modifikasi dengan menambahkan data lain berupa kolom pekerjaan, hobi dan gender."
      ]
    },
    {
      "cell_type": "markdown",
      "id": "1f84a333",
      "metadata": {
        "id": "1f84a333"
      },
      "source": [
        "### 3. Praktik PySpark Lanjutan\n",
        "- **Latihan 1**: Memanipulasi Data dengan PySpark."
      ]
    },
    {
      "cell_type": "code",
      "source": [
        "from pyspark.sql import SparkSession\n",
        "from pyspark.sql.functions import avg\n",
        "\n",
        "# Memulai Spark session\n",
        "spark = SparkSession.builder.appName(\"BigDataPractice\").getOrCreate()\n",
        "\n",
        "# Membuat DataFrame sederhana\n",
        "data = [(\"Ali\", 34), (\"Budi\", 23), (\"Citra\", 29), (\"Dina\", 45)]\n",
        "columns = [\"Nama\", \"Usia\"]\n",
        "df = spark.createDataFrame(data, columns)\n",
        "\n",
        "# Menampilkan DataFrame\n",
        "df.show()\n",
        "\n",
        "# Filtering data (Usia lebih dari 30)\n",
        "df_filtered = df.filter(df['Usia'] > 30)\n",
        "df_filtered.show()\n",
        "\n",
        "# Menghitung rata-rata usia\n",
        "df.groupBy().agg(avg(\"Usia\")).show()\n",
        "\n",
        "# Mengurutkan data berdasarkan usia\n",
        "df_sorted = df.orderBy(\"Usia\", ascending=False)\n",
        "df_sorted.show()\n"
      ],
      "metadata": {
        "colab": {
          "base_uri": "https://localhost:8080/"
        },
        "id": "fR3QuDw7ohK6",
        "outputId": "907442ec-9462-4451-bf24-8fc2990cb2e1"
      },
      "id": "fR3QuDw7ohK6",
      "execution_count": 7,
      "outputs": [
        {
          "output_type": "stream",
          "name": "stdout",
          "text": [
            "+-----+----+\n",
            "| Nama|Usia|\n",
            "+-----+----+\n",
            "|  Ali|  34|\n",
            "| Budi|  23|\n",
            "|Citra|  29|\n",
            "| Dina|  45|\n",
            "+-----+----+\n",
            "\n",
            "+----+----+\n",
            "|Nama|Usia|\n",
            "+----+----+\n",
            "| Ali|  34|\n",
            "|Dina|  45|\n",
            "+----+----+\n",
            "\n",
            "+---------+\n",
            "|avg(Usia)|\n",
            "+---------+\n",
            "|    32.75|\n",
            "+---------+\n",
            "\n",
            "+-----+----+\n",
            "| Nama|Usia|\n",
            "+-----+----+\n",
            "| Dina|  45|\n",
            "|  Ali|  34|\n",
            "|Citra|  29|\n",
            "| Budi|  23|\n",
            "+-----+----+\n",
            "\n"
          ]
        }
      ]
    },
    {
      "cell_type": "markdown",
      "id": "e06767bc",
      "metadata": {
        "id": "e06767bc"
      },
      "source": [
        "- **Tugas 2**: Lakukan filter, penghitungan rata-rata, dan pengurutan data menggunakan PySpark."
      ]
    },
    {
      "cell_type": "markdown",
      "id": "fe1e34a5",
      "metadata": {
        "id": "fe1e34a5"
      },
      "source": [
        "### 4. Praktik dengan Pandas\n",
        "- **Latihan 2**:  Buat DataFrame menggunakan Pandas:"
      ]
    },
    {
      "cell_type": "code",
      "execution_count": 10,
      "id": "3f1f2ec1",
      "metadata": {
        "id": "3f1f2ec1",
        "outputId": "475443bc-1f96-469e-c668-1303b688d912",
        "colab": {
          "base_uri": "https://localhost:8080/"
        }
      },
      "outputs": [
        {
          "output_type": "stream",
          "name": "stdout",
          "text": [
            "DataFrame Awal:\n",
            "    Nama  Usia\n",
            "0    Ali    34\n",
            "1   Budi    23\n",
            "2  Citra    29\n",
            "3   Dina    45\n",
            "\n",
            "DataFrame Setelah Penambahan Kolom:\n",
            "    Nama  Usia Status Usia\n",
            "0    Ali    34      Dewasa\n",
            "1   Budi    23        Muda\n",
            "2  Citra    29        Muda\n",
            "3   Dina    45      Dewasa\n",
            "\n",
            "DataFrame Setelah Filtering (Status Usia Dewasa):\n",
            "   Nama  Usia Status Usia\n",
            "0   Ali    34      Dewasa\n",
            "3  Dina    45      Dewasa\n"
          ]
        }
      ],
      "source": [
        "import pandas as pd\n",
        "\n",
        "# Membuat DataFrame Pandas\n",
        "data_pandas = {\"Nama\": [\"Ali\", \"Budi\", \"Citra\", \"Dina\"], \"Usia\": [34, 23, 29, 45]}\n",
        "df_pandas = pd.DataFrame(data_pandas)\n",
        "\n",
        "# Menampilkan DataFrame Pandas\n",
        "print(\"DataFrame Awal:\")\n",
        "print(df_pandas)\n",
        "\n",
        "# Menambahkan kolom baru: 'Status Usia' (Muda jika usia <= 30, Dewasa jika usia > 30)\n",
        "df_pandas['Status Usia'] = df_pandas['Usia'].apply(lambda x: 'Muda' if x <= 30 else 'Dewasa')\n",
        "\n",
        "# Menampilkan DataFrame setelah penambahan kolom\n",
        "print(\"\\nDataFrame Setelah Penambahan Kolom:\")\n",
        "print(df_pandas)\n",
        "\n",
        "# Filtering data: hanya menampilkan orang dengan status usia 'Dewasa'\n",
        "df_filtered = df_pandas[df_pandas['Status Usia'] == 'Dewasa']\n",
        "\n",
        "# Menampilkan DataFrame hasil filter\n",
        "print(\"\\nDataFrame Setelah Filtering (Status Usia Dewasa):\")\n",
        "print(df_filtered)"
      ]
    },
    {
      "cell_type": "markdown",
      "id": "9da455f1",
      "metadata": {
        "id": "9da455f1"
      },
      "source": [
        "- **Tugas 3**: Modifikasi DataFrame Pandas dengan menambahkan kolom baru dan melakukan operasi seperti filtering data berdasarkan usia."
      ]
    },
    {
      "cell_type": "markdown",
      "id": "c0042b2b",
      "metadata": {
        "id": "c0042b2b"
      },
      "source": [
        "### 5. Praktik Pandas Lanjutan\n",
        "- **Latihan 3**: Penggunaan Pandas untuk operasi lebih kompleks."
      ]
    },
    {
      "cell_type": "code",
      "execution_count": 12,
      "id": "e7a8142f",
      "metadata": {
        "id": "e7a8142f",
        "outputId": "8fb3b561-d77b-4947-c876-d1b6db1417a0",
        "colab": {
          "base_uri": "https://localhost:8080/",
          "height": 859
        }
      },
      "outputs": [
        {
          "output_type": "stream",
          "name": "stdout",
          "text": [
            "DataFrame yang Digabungkan:\n",
            "    Nama  Usia Pekerjaan\n",
            "0    Ali    34    Dokter\n",
            "1   Budi    23      Guru\n",
            "2  Citra    29  Insinyur\n",
            "3   Dina    45   Perawat\n",
            "\n",
            "Statistik Deskriptif:\n",
            "            Usia\n",
            "count   4.000000\n",
            "mean   32.750000\n",
            "std     9.322911\n",
            "min    23.000000\n",
            "25%    27.500000\n",
            "50%    31.500000\n",
            "75%    36.750000\n",
            "max    45.000000\n"
          ]
        },
        {
          "output_type": "display_data",
          "data": {
            "text/plain": [
              "<Figure size 800x600 with 1 Axes>"
            ],
            "image/png": "[encoded data removed]"
          },
          "metadata": {}
        }
      ],
      "source": [
        "import pandas as pd\n",
        "import matplotlib.pyplot as plt\n",
        "\n",
        "# Membuat DataFrame pertama\n",
        "data_pandas = {\"Nama\": [\"Ali\", \"Budi\", \"Citra\", \"Dina\"], \"Usia\": [34, 23, 29, 45]}\n",
        "df_pandas = pd.DataFrame(data_pandas)\n",
        "\n",
        "# Membuat DataFrame kedua\n",
        "data_pandas_2 = {\"Nama\": [\"Ali\", \"Budi\", \"Citra\", \"Dina\"], \"Pekerjaan\": [\"Dokter\", \"Guru\", \"Insinyur\", \"Perawat\"]}\n",
        "df_pandas_2 = pd.DataFrame(data_pandas_2)\n",
        "\n",
        "# Join antara dua DataFrame berdasarkan kolom 'Nama'\n",
        "df_joined = pd.merge(df_pandas, df_pandas_2, on=\"Nama\")\n",
        "\n",
        "# Menampilkan DataFrame yang digabungkan\n",
        "print(\"DataFrame yang Digabungkan:\")\n",
        "print(df_joined)\n",
        "\n",
        "# Menghitung statistik deskriptif untuk DataFrame df_pandas\n",
        "print(\"\\nStatistik Deskriptif:\")\n",
        "print(df_pandas.describe())\n",
        "\n",
        "# Visualisasi data menggunakan bar plot\n",
        "plt.figure(figsize=(8, 6))\n",
        "df_pandas['Usia'].plot(kind='bar', color='skyblue')\n",
        "plt.title('Usia Orang dalam DataFrame')\n",
        "plt.xlabel('Indeks')\n",
        "plt.ylabel('Usia')\n",
        "plt.xticks(ticks=range(len(df_pandas)), labels=df_pandas['Nama'], rotation=0)\n",
        "plt.show()"
      ]
    },
    {
      "cell_type": "markdown",
      "id": "884ed75d",
      "metadata": {
        "id": "884ed75d"
      },
      "source": [
        "- **Tugas 4**: Lakukan penggabungan DataFrame dan visualisasikan data dengan Pandas."
      ]
    },
    {
      "cell_type": "markdown",
      "id": "bf671ba3",
      "metadata": {
        "id": "bf671ba3"
      },
      "source": [
        "### 5. Menggabungkan PySpark dan Pandas\n",
        "- **Latihan 4: Mengonversi DataFrame antara PySpark dan Pandas**\n",
        "  Praktik untuk convert DataFrame dari PySpark ke Pandas dan sebaliknya:\n"
      ]
    },
    {
      "cell_type": "code",
      "execution_count": 15,
      "id": "337e123f",
      "metadata": {
        "id": "337e123f",
        "outputId": "46629b54-e3b2-4d25-b5f0-109c3cb6eb3b",
        "colab": {
          "base_uri": "https://localhost:8080/"
        }
      },
      "outputs": [
        {
          "output_type": "stream",
          "name": "stdout",
          "text": [
            "DataFrame Gabungan:\n",
            "+-----+----+---------+\n",
            "| Nama|Usia|Pekerjaan|\n",
            "+-----+----+---------+\n",
            "|  Ali|  34|   Dokter|\n",
            "| Budi|  23|     Guru|\n",
            "|Citra|  29| Insinyur|\n",
            "| Dina|  45|  Perawat|\n",
            "+-----+----+---------+\n",
            "\n",
            "+--------------+\n",
            "|Rata-rata Usia|\n",
            "+--------------+\n",
            "|         32.75|\n",
            "+--------------+\n",
            "\n"
          ]
        }
      ],
      "source": [
        "from pyspark.sql import SparkSession\n",
        "import pandas as pd\n",
        "from pyspark.sql.functions import avg\n",
        "\n",
        "# Memulai Spark session\n",
        "spark = SparkSession.builder.appName(\"DataConversion\").getOrCreate()\n",
        "\n",
        "# DataFrame PySpark\n",
        "data_spark = [(\"Ali\", 34), (\"Budi\", 23), (\"Citra\", 29), (\"Dina\", 45)]\n",
        "columns_spark = [\"Nama\", \"Usia\"]\n",
        "df_spark = spark.createDataFrame(data_spark, columns_spark)\n",
        "\n",
        "# DataFrame Pandas\n",
        "data_pandas = {\"Nama\": [\"Ali\", \"Budi\", \"Citra\", \"Dina\"], \"Pekerjaan\": [\"Dokter\", \"Guru\", \"Insinyur\", \"Perawat\"]}\n",
        "df_pandas = pd.DataFrame(data_pandas)\n",
        "\n",
        "# Mengonversi DataFrame dari PySpark ke Pandas\n",
        "df_pandas_from_spark = df_spark.toPandas()\n",
        "\n",
        "# Mengonversi DataFrame dari Pandas ke PySpark\n",
        "df_spark_from_pandas = spark.createDataFrame(df_pandas)\n",
        "\n",
        "# Menggabungkan DataFrame yang sudah dikonversi\n",
        "df_combined_spark = df_spark.join(df_spark_from_pandas, on=\"Nama\")\n",
        "\n",
        "# Menampilkan DataFrame hasil gabungan\n",
        "print(\"DataFrame Gabungan:\")\n",
        "df_combined_spark.show()\n",
        "\n",
        "# Menghitung rata-rata usia dari DataFrame gabungan\n",
        "df_combined_spark.groupBy().agg(avg(\"Usia\").alias(\"Rata-rata Usia\")).show()"
      ]
    },
    {
      "cell_type": "markdown",
      "id": "2cba4e5c",
      "metadata": {
        "id": "2cba4e5c"
      },
      "source": [
        "- **Tugas 5**: Gunakan metode ini untuk menggabungkan data yang Anda buat di PySpark dengan data dari Pandas, kemudian lakukan analisis sederhana seperti menghitung rata-rata usia."
      ]
    },
    {
      "cell_type": "markdown",
      "id": "afdba6be",
      "metadata": {
        "id": "afdba6be"
      },
      "source": [
        "### 6. Konversi Data antara PySpark dan Pandas"
      ]
    },
    {
      "cell_type": "code",
      "execution_count": 14,
      "id": "f863defc",
      "metadata": {
        "id": "f863defc",
        "outputId": "9f979ec4-80f7-4f5f-8199-0de8d12817d2",
        "colab": {
          "base_uri": "https://localhost:8080/"
        }
      },
      "outputs": [
        {
          "output_type": "stream",
          "name": "stdout",
          "text": [
            "+-----+----+\n",
            "| Nama|Usia|\n",
            "+-----+----+\n",
            "|  Ali|  34|\n",
            "| Budi|  23|\n",
            "|Citra|  29|\n",
            "| Dina|  45|\n",
            "+-----+----+\n",
            "\n"
          ]
        },
        {
          "output_type": "execute_result",
          "data": {
            "text/plain": [
              "(    Nama  Usia\n",
              " 0    Ali    34\n",
              " 1   Budi    23\n",
              " 2  Citra    29\n",
              " 3   Dina    45,\n",
              " None)"
            ]
          },
          "metadata": {},
          "execution_count": 14
        }
      ],
      "source": [
        "from pyspark.sql import SparkSession\n",
        "import pandas as pd\n",
        "from pyspark.sql.functions import max\n",
        "\n",
        "# Memulai Spark session\n",
        "spark = SparkSession.builder.appName(\"DataCombination\").getOrCreate()\n",
        "\n",
        "# DataFrame PySpark\n",
        "data_spark = [(\"Ali\", 34), (\"Budi\", 23), (\"Citra\", 29), (\"Dina\", 45)]\n",
        "columns_spark = [\"Nama\", \"Usia\"]\n",
        "df_spark = spark.createDataFrame(data_spark, columns_spark)\n",
        "\n",
        "# DataFrame Pandas\n",
        "data_pandas = {\"Nama\": [\"Ali\", \"Budi\", \"Citra\", \"Dina\"], \"Pekerjaan\": [\"Dokter\", \"Guru\", \"Insinyur\", \"Perawat\"]}\n",
        "df_pandas = pd.DataFrame(data_pandas)\n",
        "\n",
        "# Mengonversi DataFrame dari PySpark ke Pandas\n",
        "df_pandas_from_spark = df_spark.toPandas()\n",
        "\n",
        "# Mengonversi DataFrame dari Pandas ke PySpark\n",
        "df_spark_from_pandas = spark.createDataFrame(df_pandas)\n",
        "\n",
        "# Menggabungkan DataFrame yang sudah dikonversi\n",
        "df_combined_spark = df_spark.join(df_spark_from_pandas, on=\"Nama\")\n",
        "\n",
        "# Menampilkan DataFrame hasil gabungan\n",
        "print(\"DataFrame Gabungan:\")\n",
        "df_combined_spark.show()\n",
        "\n",
        "# Menghitung nilai maksimum usia dari DataFrame gabungan\n",
        "df_combined_spark.groupBy().agg(max(\"Usia\").alias(\"Maksimum Usia\")).show()\n"
      ]
    },
    {
      "cell_type": "markdown",
      "id": "65adbe71",
      "metadata": {
        "id": "65adbe71"
      },
      "source": [
        "- **Tugas 6**: Gabungkan data dari PySpark dan Pandas, lalu lakukan operasi statistik seperti menghitung nilai maksimum usia."
      ]
    }
  ],
  "metadata": {
    "colab": {
      "provenance": []
    },
    "kernelspec": {
      "display_name": "Python 3 (ipykernel)",
      "language": "python",
      "name": "python3"
    },
    "language_info": {
      "codemirror_mode": {
        "name": "ipython",
        "version": 3
      },
      "file_extension": ".py",
      "mimetype": "text/x-python",
      "name": "python",
      "nbconvert_exporter": "python",
      "pygments_lexer": "ipython3",
      "version": "3.11.9"
    }
  },
  "nbformat": 4,
  "nbformat_minor": 5
}